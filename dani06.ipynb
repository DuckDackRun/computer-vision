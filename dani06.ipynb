{
 "cells": [
  {
   "cell_type": "markdown",
   "metadata": {},
   "source": [
    "# Assignment 6\n",
    "\n",
    "Welcome to the assignment for week 6."
   ]
  },
  {
   "cell_type": "markdown",
   "metadata": {},
   "source": [
    "## Task 6: Viola & Jones"
   ]
  },
  {
   "cell_type": "markdown",
   "metadata": {},
   "source": [
    "### Ex. 6.1 Rectangular Features\n",
    "\n",
    "* Implement the construction of all 2-rect features (horizontal and vertical) within a given window (like the 24x24 px window from the paper)\n",
    "* How many exist? **(RESULT)** \n",
    "* Display three of these overlaid onto an image of a face. **(RESULT)**"
   ]
  },
  {
   "cell_type": "code",
   "execution_count": 3,
   "metadata": {},
   "outputs": [],
   "source": [
    "# 2 rect characterize by (x- left top corner point, y- , width, height, axis, parity) # axis = 0: horizontal, axis = 1: vertical\n",
    "\n",
    "def getALLRectangles(img):\n",
    "    img_height, img_width = img.shape\n",
    "    rects = []\n",
    "    \n",
    "    for y_ref_point in range(img_height):\n",
    "        for x_ref_point in range(img_width):\n",
    "            for width in range(img_width - x_ref_point - 1): # think have to subtract 1\n",
    "                for height in range(img_height - y_ref_point - 1): # think have to subtract 1\n",
    "                    for parity in range(2):\n",
    "                        for axis in range(2):\n",
    "                            rects.append({'x': x_ref_point, 'y': y_ref_point, 'width': width, 'height': height, 'axis': axis, 'parity':parity})\n",
    "                    \n",
    "    return rects"
   ]
  },
  {
   "cell_type": "code",
   "execution_count": 4,
   "metadata": {},
   "outputs": [
    {
     "name": "stdout",
     "output_type": "stream",
     "text": [
      "There are 304704 different 2-rects!\n"
     ]
    }
   ],
   "source": [
    "import numpy as np\n",
    "image = np.zeros((24, 24))\n",
    "\n",
    "rects = getALLRectangles(image)\n",
    "print(f'There are {len(rects)} different 2-rects!')"
   ]
  },
  {
   "cell_type": "code",
   "execution_count": 27,
   "metadata": {},
   "outputs": [],
   "source": [
    "def putRectangle(image, rect):\n",
    "    xRange,yRange, _ = image.shape\n",
    "    if rect['x'] + rect['width'] > xRange or rect['y'] + rect['height'] > yRange or rect['x'] < 0 or rect['y'] < 0:\n",
    "        print('Rectangle is out of range!')\n",
    "        \n",
    "        return  \n",
    "    \n",
    "    result = np.copy(image)\n",
    "    heightOffset = 0\n",
    "    widthOffset = 0\n",
    "        \n",
    "    if rect['axis'] == 0:\n",
    "        \n",
    "        widthOffset = rect['width'] % 2\n",
    "        width = rect['width']//2\n",
    "        height = rect['height']\n",
    "        \n",
    "        # case 1|0\n",
    "        if rect['parity'] == 0: \n",
    "            cornerWhiteX = rect['x']\n",
    "            cornerWhiteY = rect['y']\n",
    "            cornerBlackX = rect['x'] + rect['width']//2\n",
    "            cornerBlackY = rect['y']\n",
    "        # case 0|1\n",
    "        else:                    \n",
    "            cornerWhiteX = rect['x'] + rect['width']//2\n",
    "            cornerWhiteY = rect['y']\n",
    "            cornerBlackX = rect['x']\n",
    "            cornerBlackY = rect['y']\n",
    "    else:\n",
    "        width = rect['width']\n",
    "        height = rect['height']//2\n",
    "        heightOffset = rect['height'] % 2\n",
    "        \n",
    "        # case 1/0\n",
    "        if rect['parity'] == 0:\n",
    "            cornerWhiteX = rect['x']\n",
    "            cornerWhiteY = rect['y']\n",
    "            cornerBlackX = rect['x']\n",
    "            cornerBlackY = rect['y'] + rect['height']//2\n",
    "        # case 0/1\n",
    "        else:\n",
    "            cornerWhiteX = rect['x']\n",
    "            cornerWhiteY = rect['y'] + rect['height']//2\n",
    "            cornerBlackX = rect['x']\n",
    "            cornerBlackY = rect['y']\n",
    "    \n",
    "    # color white\n",
    "    for dx in range(width): \n",
    "        for dy in range(height):\n",
    "            result[cornerWhiteY + dy][cornerWhiteX + dx] = (255, 255, 255)\n",
    "            \n",
    "    # color black        \n",
    "    for dx in range(width + widthOffset): \n",
    "        for dy in range(height + heightOffset):\n",
    "            result[cornerBlackY + dy][cornerBlackX + dx] = (0, 0, 0)\n",
    "    \n",
    "    return result"
   ]
  },
  {
   "cell_type": "code",
   "execution_count": 48,
   "metadata": {},
   "outputs": [
    {
     "data": {
      "image/png": "[encoded data removed]",
      "text/plain": [
       "<Figure size 1500x500 with 3 Axes>"
      ]
     },
     "metadata": {},
     "output_type": "display_data"
    }
   ],
   "source": [
    "from skimage import io\n",
    "import random\n",
    "import matplotlib.pyplot as plt\n",
    "\n",
    "blue_color = np.zeros((24, 24, 3), dtype=np.uint8)\n",
    "blue_color[:, :, 2] = 255\n",
    "\n",
    "figure,ax = plt.subplots(1, 3, figsize=(15, 5))\n",
    "ax.ravel()\n",
    "\n",
    "# need some faces\n",
    "for i in range(3):\n",
    "    randInt = random.randint(0, len(rects) - 1)\n",
    "    ax[i].imshow(putRectangle(blue_color, rects[randInt]))"
   ]
  },
  {
   "cell_type": "markdown",
   "metadata": {},
   "source": [
    "### Task 6.2: Integral Image\n",
    "\n",
    "* Implement a function that computes the integral image of a given input image. Display the integral image for an input of you choice **(RESULT)**. \n",
    "* Compare it to the output of skimage's integral_image() function. **(RESULT)**"
   ]
  },
  {
   "cell_type": "code",
   "execution_count": 79,
   "metadata": {},
   "outputs": [],
   "source": [
    "from operator import add, sub\n",
    "from skimage.transform import integral_image\n",
    "\n",
    "\n",
    "def addElementWise(list1, list2):\n",
    "    return list(map(add, list1, list2)) \n",
    "\n",
    "def subElementWise(list1, list2):\n",
    "    return list(map(sub, list1, list2)) \n",
    "\n",
    "def getIntegralImage(image):\n",
    "    xRange,yRange, dim = image.shape\n",
    "    integralImg = np.zeros((xRange, yRange, dim), np.uint32)\n",
    "    \n",
    "    integralImg[0][0] = image[0][0]\n",
    "    \n",
    "    for x in range(1, xRange):\n",
    "        integralImg[0][x] = addElementWise(integralImg[0][x-1], image[0][x])\n",
    "    \n",
    "    for y in range(1, yRange):\n",
    "        integralImg[y][0] = addElementWise(integralImg[y-1][0], image[y][0])\n",
    "        \n",
    "    for y in range(1, yRange):\n",
    "        for x in range(1, xRange):\n",
    "            integralImg[y][x] = subElementWise(addElementWise(addElementWise(integralImg[y][x-1],integralImg[y-1][x]),image[y][x]),integralImg[y-1][x-1])\n",
    "            \n",
    "    return integralImg"
   ]
  },
  {
   "cell_type": "code",
   "execution_count": null,
   "metadata": {},
   "outputs": [
    {
     "name": "stderr",
     "output_type": "stream",
     "text": [
      "Clipping input data to the valid range for imshow with RGB data ([0..1] for floats or [0..255] for integers). Got range [0..576].\n",
      "Clipping input data to the valid range for imshow with RGB data ([0..1] for floats or [0..255] for integers). Got range [0..576].\n"
     ]
    },
    {
     "name": "stdout",
     "output_type": "stream",
     "text": [
      "0.0002624988555908203\n",
      "0.009569406509399414\n"
     ]
    },
    {
     "data": {
      "image/png": "[encoded data removed]",
      "text/plain": [
       "<Figure size 1500x500 with 3 Axes>"
      ]
     },
     "metadata": {},
     "output_type": "display_data"
    }
   ],
   "source": [
    "import matplotlib.pyplot as plt\n",
    "from skimage.transform import integral_image\n",
    "import time\n",
    "fig, ax = plt.subplots(1, 3, figsize=(15, 5))\n",
    "ax.ravel()\n",
    "\n",
    "def integral(image):\n",
    "    return integral_image(image)\n",
    "\n",
    "ax[0].imshow(blue_color)\n",
    "#execution_time = timeit.timeit(integral(blue_color), number=1) weird\n",
    "starttime = time.time()\n",
    "integral1 = integral_image(blue_color)\n",
    "endtime = time.time()\n",
    "\n",
    "print((endtime-starttime))\n",
    "ax[1].imshow(integral1)\n",
    "starttime = time.time()\n",
    "integral2 = getIntegralImage(blue_color)\n",
    "ax[2].imshow(integral2)\n",
    "endtime = time.time()\n",
    "\n",
    "print((endtime-starttime)) # my version is way slower. Mayby use symmetry?"
   ]
  },
  {
   "cell_type": "markdown",
   "metadata": {},
   "source": [
    "### Task 6.3: AdaBoosting\n",
    "\n",
    "* Implement the AdaBoost algorithm as outlined in the paper (https://www.face-rec.org/algorithms/Boosting-Ensemble/16981346.pdf).\n",
    "* Train a 20-feature classifier using these datasets:\n",
    "    - TinyFace for low resolution face images: https://qmul-tinyface.github.io/\n",
    "    - CIFAR10 for negative samples: https://www.cs.toronto.edu/~kriz/cifar.html\n",
    "* Test your classifier and report the results for different thresholds **(RESULTS)**"
   ]
  },
  {
   "cell_type": "code",
   "execution_count": null,
   "metadata": {},
   "outputs": [],
   "source": [
    "# Get the data\n",
    "\n",
    "# Get TinyFace using for example gdown\n",
    "# !pip install gdown\n",
    "# !mkdir data\n",
    "# !cd data\n",
    "# !gdown 1xTZc7lNmWN33ECO2AKH6FycGdiqIK7W0\n",
    "# !unzip tinyface.zip\n",
    "\n",
    "# TODO: Data Loading and simple preprocessing:\n",
    "# Prepare (some) TinyFace samples for face data and use CIFAR10 samples for non-face data\n",
    "# suggested cropping/resizing to 16x16 + "
   ]
  },
  {
   "cell_type": "code",
   "execution_count": null,
   "metadata": {},
   "outputs": [],
   "source": [
    "# code here"
   ]
  },
  {
   "cell_type": "markdown",
   "metadata": {},
   "source": [
    "## Congratz, you made it! :)"
   ]
  },
  {
   "cell_type": "markdown",
   "metadata": {},
   "source": []
  }
 ],
 "metadata": {
  "kernelspec": {
   "display_name": "venv",
   "language": "python",
   "name": "python3"
  },
  "language_info": {
   "codemirror_mode": {
    "name": "ipython",
    "version": 3
   },
   "file_extension": ".py",
   "mimetype": "text/x-python",
   "name": "python",
   "nbconvert_exporter": "python",
   "pygments_lexer": "ipython3",
   "version": "3.12.7"
  }
 },
 "nbformat": 4,
 "nbformat_minor": 2
}
